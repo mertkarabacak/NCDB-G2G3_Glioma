{
 "cells": [
  {
   "cell_type": "code",
   "execution_count": null,
   "id": "4AZmJ6jfWEN4",
   "metadata": {
    "colab": {
     "base_uri": "https://localhost:8080/"
    },
    "executionInfo": {
     "elapsed": 21319,
     "status": "ok",
     "timestamp": 1691863005590,
     "user": {
      "displayName": "Mert Karabacak",
      "userId": "14308977132914475412"
     },
     "user_tz": 240
    },
    "id": "4AZmJ6jfWEN4",
    "outputId": "332d4866-038f-472a-941d-35022852f409"
   },
   "outputs": [],
   "source": [
    "from google.colab import drive\n",
    "drive.mount('/content/drive')"
   ]
  },
  {
   "cell_type": "code",
   "execution_count": null,
   "id": "45bff18b",
   "metadata": {
    "executionInfo": {
     "elapsed": 1325,
     "status": "ok",
     "timestamp": 1691863006902,
     "user": {
      "displayName": "Mert Karabacak",
      "userId": "14308977132914475412"
     },
     "user_tz": 240
    },
    "id": "45bff18b"
   },
   "outputs": [],
   "source": [
    "import numpy as np\n",
    "import pandas as pd\n",
    "from pandas.api.types import CategoricalDtype\n",
    "\n",
    "from sklearn.preprocessing import LabelEncoder\n",
    "from sklearn.preprocessing import MinMaxScaler\n",
    "from sklearn.impute import KNNImputer\n",
    "\n",
    "from matplotlib import pyplot as plt\n",
    "\n",
    "pd.set_option('display.max_rows', None)"
   ]
  },
  {
   "cell_type": "code",
   "execution_count": null,
   "id": "721c822b",
   "metadata": {
    "colab": {
     "base_uri": "https://localhost:8080/"
    },
    "executionInfo": {
     "elapsed": 16735,
     "status": "ok",
     "timestamp": 1691863112656,
     "user": {
      "displayName": "Mert Karabacak",
      "userId": "14308977132914475412"
     },
     "user_tz": 240
    },
    "id": "721c822b",
    "outputId": "850bf27f-0896-4b6f-8e61-8d49ca7bacdf"
   },
   "outputs": [],
   "source": [
    "#Open csv file.\n",
    "\n",
    "data = pd.read_csv(\"/content/drive/MyDrive/NCDB-PUFs/Brain - 2020 (Labeled).csv\", index_col='PUF_CASE_ID')\n",
    "data.shape"
   ]
  },
  {
   "cell_type": "code",
   "execution_count": null,
   "id": "2ddf793b",
   "metadata": {
    "colab": {
     "base_uri": "https://localhost:8080/"
    },
    "executionInfo": {
     "elapsed": 26,
     "status": "ok",
     "timestamp": 1691863112657,
     "user": {
      "displayName": "Mert Karabacak",
      "userId": "14308977132914475412"
     },
     "user_tz": 240
    },
    "id": "2ddf793b",
    "outputId": "168d8b22-bb1a-409b-9003-9adaf462fa58"
   },
   "outputs": [],
   "source": [
    "#See all columns.\n",
    "\n",
    "print(list(data.columns))"
   ]
  },
  {
   "cell_type": "code",
   "execution_count": null,
   "id": "a143c94a",
   "metadata": {
    "executionInfo": {
     "elapsed": 18,
     "status": "ok",
     "timestamp": 1691863112657,
     "user": {
      "displayName": "Mert Karabacak",
      "userId": "14308977132914475412"
     },
     "user_tz": 240
    },
    "id": "a143c94a"
   },
   "outputs": [],
   "source": [
    "#Define variables of interest (predictor variables, inclusion/exclusion criteria, outcomes of interest).\n",
    "\n",
    "variables = ['BRAIN_MOL_MARKERS', 'DIAGNOSTIC_CONFIRMATION', 'FACILITY_TYPE_CD', 'FACILITY_LOCATION_CD', 'AGE', 'SEX', 'RACE', 'SPANISH_HISPANIC_ORIGIN', 'INSURANCE_STATUS', 'YEAR_OF_DIAGNOSIS', 'CDCC_TOTAL_BEST', 'HISTOLOGY', 'PRIMARY_SITE', 'LATERALITY', 'DIAGNOSTIC_BIOPSY', 'CS_SITESPECIFIC_FACTOR_1', 'CS_SITESPECIFIC_FACTOR_2', 'CS_SITESPECIFIC_FACTOR_3', 'CS_SITESPECIFIC_FACTOR_4', 'CS_SITESPECIFIC_FACTOR_5', 'CS_SITESPECIFIC_FACTOR_6', 'CS_SITESPECIFIC_FACTOR_8', 'TUMOR_SIZE', 'RX_SUMM_SURG_PRIM_SITE', 'PHASE_I_COMBINED', 'PHASE_II_COMBINED', 'PHASE_III_COMBINED', 'RX_SUMM_CHEMO', 'RX_SUMM_IMMUNOTHERAPY', 'DX_LASTCONTACT_DEATH_MONTHS', 'PUF_VITAL_STATUS']"
   ]
  },
  {
   "cell_type": "code",
   "execution_count": null,
   "id": "a21a408c",
   "metadata": {
    "colab": {
     "base_uri": "https://localhost:8080/"
    },
    "executionInfo": {
     "elapsed": 17,
     "status": "ok",
     "timestamp": 1691863112657,
     "user": {
      "displayName": "Mert Karabacak",
      "userId": "14308977132914475412"
     },
     "user_tz": 240
    },
    "id": "a21a408c",
    "outputId": "aa668190-9313-4aca-be1d-819d17f36025"
   },
   "outputs": [],
   "source": [
    "#Remove unwanted columns and check data shape.\n",
    "\n",
    "data = data[variables]\n",
    "\n",
    "data.shape"
   ]
  },
  {
   "cell_type": "markdown",
   "id": "cMoxIKULpbsk",
   "metadata": {
    "id": "cMoxIKULpbsk"
   },
   "source": [
    "#Inclusion Criteria"
   ]
  },
  {
   "cell_type": "code",
   "execution_count": null,
   "id": "yDVO15AC5DT1",
   "metadata": {
    "colab": {
     "base_uri": "https://localhost:8080/"
    },
    "executionInfo": {
     "elapsed": 398,
     "status": "ok",
     "timestamp": 1691863246300,
     "user": {
      "displayName": "Mert Karabacak",
      "userId": "14308977132914475412"
     },
     "user_tz": 240
    },
    "id": "yDVO15AC5DT1",
    "outputId": "01ac405d-8dbe-4362-d704-39e18cec76fb"
   },
   "outputs": [],
   "source": [
    "data['YEAR_OF_DIAGNOSIS'].value_counts(normalize=False, dropna=False)"
   ]
  },
  {
   "cell_type": "code",
   "execution_count": null,
   "id": "120235be",
   "metadata": {
    "id": "120235be"
   },
   "outputs": [],
   "source": [
    "#Identify glioblastoma patients with ICD-O-3 codes.\n",
    "\n",
    "icd_codes = [9425, 9400, 9424, 9450, 9382]\n",
    "data = data[data[['HISTOLOGY']].isin(icd_codes).any(axis=1)]\n",
    "\n",
    "print('Number of included patients:', data.shape[0])"
   ]
  },
  {
   "cell_type": "code",
   "execution_count": null,
   "id": "9oMpuu7HdDh-",
   "metadata": {
    "id": "9oMpuu7HdDh-"
   },
   "outputs": [],
   "source": [
    "#Confirm the histology codes with 'CS_SITESPECIFIC_FACTOR_1'.\n",
    "\n",
    "data = data[data['CS_SITESPECIFIC_FACTOR_1'] == 'Grade II']\n",
    "data = data.drop(['CS_SITESPECIFIC_FACTOR_1'], axis=1)\n",
    "\n",
    "print('Number of included patients:', data.shape[0])"
   ]
  },
  {
   "cell_type": "code",
   "execution_count": null,
   "id": "cz0ZH8tOTNKI",
   "metadata": {
    "id": "cz0ZH8tOTNKI"
   },
   "outputs": [],
   "source": [
    "#Apply inclusion criteria for age.\n",
    "\n",
    "data = data[data['DIAGNOSTIC_CONFIRMATION'] == 'Positive histology']\n",
    "data = data.drop(['DIAGNOSTIC_CONFIRMATION'], axis=1)\n",
    "\n",
    "print('Number of included patients:', data.shape[0])"
   ]
  },
  {
   "cell_type": "code",
   "execution_count": null,
   "id": "JPM-uhBeTPqn",
   "metadata": {
    "id": "JPM-uhBeTPqn"
   },
   "outputs": [],
   "source": [
    "#Apply inclusion criteria for 'PRIMARY_SITE'.\n",
    "\n",
    "sites = ['C710', 'C711', 'C712', 'C713', 'C714', 'C715', 'C716', 'C717', 'C718', 'C719']\n",
    "data = data[data[['PRIMARY_SITE']].isin(sites).any(axis=1)]\n",
    "\n",
    "print('Number of included patients:', data.shape[0])"
   ]
  },
  {
   "cell_type": "code",
   "execution_count": null,
   "id": "5IRH2vePbsCS",
   "metadata": {
    "id": "5IRH2vePbsCS"
   },
   "outputs": [],
   "source": [
    "#Apply inclusion criteria for age.\n",
    "\n",
    "data = data[data['AGE'] > 18]\n",
    "\n",
    "print('Number of included patients:', data.shape[0])"
   ]
  },
  {
   "cell_type": "code",
   "execution_count": null,
   "id": "5ks_VuXZmQcZ",
   "metadata": {
    "id": "5ks_VuXZmQcZ"
   },
   "outputs": [],
   "source": [
    "#Apply inclusion criteria for the year of diagnosis.\n",
    "\n",
    "years = [2010, 2011, 2012, 2013, 2014, 2015, 2016, 2017]\n",
    "data = data[data[['YEAR_OF_DIAGNOSIS']].isin(years).any(axis=1)]\n",
    "data = data.drop(['YEAR_OF_DIAGNOSIS'], axis=1)\n",
    "\n",
    "print('Number of included patients:', data.shape[0])"
   ]
  },
  {
   "cell_type": "markdown",
   "id": "qp0orahPwCU-",
   "metadata": {
    "id": "qp0orahPwCU-"
   },
   "source": [
    "#Exclusion Criteria"
   ]
  },
  {
   "cell_type": "code",
   "execution_count": null,
   "id": "32oPmKOudDth",
   "metadata": {
    "id": "32oPmKOudDth"
   },
   "outputs": [],
   "source": [
    "#Exclude patients without outcome information.\n",
    "\n",
    "before = data.shape[0]\n",
    "data = data[data['DX_LASTCONTACT_DEATH_MONTHS'].notna()]\n",
    "data = data[(data['PUF_VITAL_STATUS'] != 'Unknown')]\n",
    "after = data.shape[0]\n",
    "\n",
    "excluded = before - after\n",
    "print('Number of patients before exclusion: ', before)\n",
    "print('Number of patients after exclusion: ', after)\n",
    "print('Number of patients excluded with this criteria: ', excluded)"
   ]
  },
  {
   "cell_type": "markdown",
   "id": "NiWn9OMjwJeE",
   "metadata": {
    "id": "NiWn9OMjwJeE"
   },
   "source": [
    "#Renaming and Merging Response Values"
   ]
  },
  {
   "cell_type": "code",
   "execution_count": null,
   "id": "27ozj1nuDE0M",
   "metadata": {
    "id": "27ozj1nuDE0M"
   },
   "outputs": [],
   "source": [
    "#Simplify the column 'PRIMARY_SITE'.\n",
    "\n",
    "data.loc[data['PRIMARY_SITE'] == 'C710', 'PRIMARY_SITE'] = 'Unknown'\n",
    "data.loc[data['PRIMARY_SITE'] == 'C711', 'PRIMARY_SITE'] = 'Frontal lobe'\n",
    "data.loc[data['PRIMARY_SITE'] == 'C712', 'PRIMARY_SITE'] = 'Temporal lobe'\n",
    "data.loc[data['PRIMARY_SITE'] == 'C713', 'PRIMARY_SITE'] = 'Parietal lobe'\n",
    "data.loc[data['PRIMARY_SITE'] == 'C714', 'PRIMARY_SITE'] = 'Occipital lobe'\n",
    "data.loc[data['PRIMARY_SITE'] == 'C715', 'PRIMARY_SITE'] = 'Intraventricular'\n",
    "data.loc[data['PRIMARY_SITE'] == 'C716', 'PRIMARY_SITE'] = 'Cerebellum'\n",
    "data.loc[data['PRIMARY_SITE'] == 'C717', 'PRIMARY_SITE'] = 'Brain stem'\n",
    "data.loc[data['PRIMARY_SITE'] == 'C718', 'PRIMARY_SITE'] = 'Overlapping lesion'\n",
    "data.loc[data['PRIMARY_SITE'] == 'C719', 'PRIMARY_SITE'] = 'Unknown'\n",
    "\n",
    "data['PRIMARY_SITE'].value_counts(normalize=False, dropna=False)"
   ]
  },
  {
   "cell_type": "code",
   "execution_count": null,
   "id": "zcdcKynDWg9H",
   "metadata": {
    "id": "zcdcKynDWg9H"
   },
   "outputs": [],
   "source": [
    "#Simplify the column 'HISTOLOGY'.\n",
    "\n",
    "data.loc[data['HISTOLOGY'] == 9425, 'HISTOLOGY'] = 'Pilomyxoid astrocytoma'\n",
    "data.loc[data['HISTOLOGY'] == 9400, 'HISTOLOGY'] = 'Diffuse astrocytoma'\n",
    "data.loc[data['HISTOLOGY'] == 9424, 'HISTOLOGY'] = 'Pleomorphic xanthoastrocytoma'\n",
    "data.loc[data['HISTOLOGY'] == 9450, 'HISTOLOGY'] = 'Oligodendroglioma'\n",
    "data.loc[data['HISTOLOGY'] == 9382, 'HISTOLOGY'] = 'Oligoastrocytoma'\n",
    "\n",
    "data['HISTOLOGY'].value_counts(normalize=False, dropna=False)"
   ]
  },
  {
   "cell_type": "code",
   "execution_count": null,
   "id": "6Fqa-aPrCPzH",
   "metadata": {
    "id": "6Fqa-aPrCPzH"
   },
   "outputs": [],
   "source": [
    "#Simplify the column 'LATERALITY'.\n",
    "\n",
    "data.loc[data['LATERALITY'] == 'Not applicable', 'LATERALITY'] = 'Unknown'\n",
    "\n",
    "data['LATERALITY'].value_counts(normalize=False, dropna=False)"
   ]
  },
  {
   "cell_type": "code",
   "execution_count": null,
   "id": "KSGYK_mkDarJ",
   "metadata": {
    "id": "KSGYK_mkDarJ"
   },
   "outputs": [],
   "source": [
    "#Simplify the columns 'CS_SITESPECIFIC_FACTOR_5' and 'CS_SITESPECIFIC_FACTOR_6'.\n",
    "\n",
    "data.loc[(data['CS_SITESPECIFIC_FACTOR_5'] == 'Test positive for loss of heterozygosity') & (data['CS_SITESPECIFIC_FACTOR_6'] == 'Test positive for loss of heterozygosity'), '1P19Q_CODELETION'] = 'Yes'\n",
    "data.loc[(data['CS_SITESPECIFIC_FACTOR_5'] == 'Unknown') | (data['CS_SITESPECIFIC_FACTOR_6'] == 'Unknown'), '1P19Q_CODELETION'] = 'Unknown'\n",
    "data['1P19Q_CODELETION'] = data['1P19Q_CODELETION'].fillna('No')\n",
    "data = data.drop(['CS_SITESPECIFIC_FACTOR_5', 'CS_SITESPECIFIC_FACTOR_6'], axis=1)\n",
    "\n",
    "data['1P19Q_CODELETION'].value_counts(normalize=False, dropna=False)"
   ]
  },
  {
   "cell_type": "code",
   "execution_count": null,
   "id": "vEJdh89hFNkV",
   "metadata": {
    "id": "vEJdh89hFNkV"
   },
   "outputs": [],
   "source": [
    "#Simplify the column 'TUMOR_SIZE'.\n",
    "\n",
    "data.loc[data['TUMOR_SIZE'] == 'Microscopic foci only', 'TUMOR_SIZE'] = 'Unknown'\n",
    "data.loc[data['TUMOR_SIZE'] == 'No mass or tumor found', 'TUMOR_SIZE'] = 'Unknown'\n",
    "\n",
    "data['TUMOR_SIZE'].value_counts(normalize=False, dropna=False)"
   ]
  },
  {
   "cell_type": "code",
   "execution_count": null,
   "id": "JSzDfOEzFyk0",
   "metadata": {
    "id": "JSzDfOEzFyk0"
   },
   "outputs": [],
   "source": [
    "#Create the column 'EXTENT_OF_RESECTION'.\n",
    "\n",
    "data.loc[data['RX_SUMM_SURG_PRIM_SITE'] == 'Gross total resection', 'EXTENT_OF_RESECTION'] = 'Gross total resection'\n",
    "data.loc[data['RX_SUMM_SURG_PRIM_SITE'] == 'Subtotal resection', 'EXTENT_OF_RESECTION'] = 'Subtotal resection'\n",
    "data.loc[data['RX_SUMM_SURG_PRIM_SITE'] == 'Surgery was performed but extent of resection is unknown', 'EXTENT_OF_RESECTION'] = 'Resective surgery was performed but the extent of resection is unknown'\n",
    "data.loc[data['RX_SUMM_SURG_PRIM_SITE'] == 'Biopsy', 'EXTENT_OF_RESECTION'] = 'No resective surgery was performed'\n",
    "data.loc[data['RX_SUMM_SURG_PRIM_SITE'] == 'No surgery was performed', 'EXTENT_OF_RESECTION'] = 'No resective surgery was performed'\n",
    "data.loc[data['RX_SUMM_SURG_PRIM_SITE'] == 'Gross total lobectomy', 'EXTENT_OF_RESECTION'] = 'Resective surgery was performed but the extent of resection is unknown'\n",
    "data.loc[data['RX_SUMM_SURG_PRIM_SITE'] == 'Partial lobectomy', 'EXTENT_OF_RESECTION'] = 'Resective surgery was performed but the extent of resection is unknown'\n",
    "data.loc[data['RX_SUMM_SURG_PRIM_SITE'] == 'Resection of tumor of spinal cord or nerve', 'EXTENT_OF_RESECTION'] = 'Resective surgery was performed but the extent of resection is unknown'\n",
    "data.loc[data['RX_SUMM_SURG_PRIM_SITE'] == 'Tumor destruction', 'EXTENT_OF_RESECTION'] = 'Resective surgery was performed but the extent of resection is unknown'\n",
    "data.loc[data['RX_SUMM_SURG_PRIM_SITE'] == 'Unknown', 'EXTENT_OF_RESECTION'] = 'Unknown whether resective surgery is performed or not'\n",
    "\n",
    "data = data.drop(['RX_SUMM_SURG_PRIM_SITE'], axis=1)\n",
    "\n",
    "data['EXTENT_OF_RESECTION'].value_counts(normalize=False, dropna=False)"
   ]
  },
  {
   "cell_type": "code",
   "execution_count": null,
   "id": "Kyi0uOBvIspy",
   "metadata": {
    "id": "Kyi0uOBvIspy"
   },
   "outputs": [],
   "source": [
    "#Simplify the column 'PHASE_I_COMBINED' in a new column 'PHASE_I_RADIOTHERAPY'.\n",
    "\n",
    "data.loc[data['PHASE_I_COMBINED'] == 'No radiation treatment', 'PHASE_I_RADIOTHERAPY'] = 'No'\n",
    "data.loc[data['PHASE_I_COMBINED'] == 'Unknown', 'PHASE_I_RADIOTHERAPY'] = 'Unknown'\n",
    "data['PHASE_I_RADIOTHERAPY'] = data['PHASE_I_RADIOTHERAPY'].fillna('Yes')\n",
    "data = data.drop(['PHASE_I_COMBINED'], axis=1)\n",
    "\n",
    "data['PHASE_I_RADIOTHERAPY'].value_counts(normalize=False, dropna=False)"
   ]
  },
  {
   "cell_type": "code",
   "execution_count": null,
   "id": "UIzJjD36NMsz",
   "metadata": {
    "id": "UIzJjD36NMsz"
   },
   "outputs": [],
   "source": [
    "#Simplify the column 'PHASE_II_COMBINED' in a new column 'PHASE_II_RADIOTHERAPY'.\n",
    "\n",
    "data.loc[data['PHASE_II_COMBINED'] == 'No radiation treatment', 'PHASE_II_RADIOTHERAPY'] = 'No'\n",
    "data.loc[data['PHASE_II_COMBINED'] == 'Unknown', 'PHASE_II_RADIOTHERAPY'] = 'Unknown'\n",
    "data['PHASE_II_RADIOTHERAPY'] = data['PHASE_II_RADIOTHERAPY'].fillna('Yes')\n",
    "data = data.drop(['PHASE_II_COMBINED'], axis=1)\n",
    "\n",
    "data['PHASE_II_RADIOTHERAPY'].value_counts(normalize=False, dropna=False)"
   ]
  },
  {
   "cell_type": "code",
   "execution_count": null,
   "id": "IUlQnJnBPJtN",
   "metadata": {
    "id": "IUlQnJnBPJtN"
   },
   "outputs": [],
   "source": [
    "#Simplify the column 'PHASE_III_COMBINED' in a new column 'PHASE_III_RADIOTHERAPY'.\n",
    "\n",
    "data.loc[data['PHASE_III_COMBINED'] == 'No radiation treatment', 'PHASE_III_RADIOTHERAPY'] = 'No'\n",
    "data.loc[data['PHASE_III_COMBINED'] == 'Unknown', 'PHASE_III_RADIOTHERAPY'] = 'Unknown'\n",
    "data['PHASE_III_RADIOTHERAPY'] = data['PHASE_III_RADIOTHERAPY'].fillna('Yes')\n",
    "data = data.drop(['PHASE_III_COMBINED'], axis=1)\n",
    "\n",
    "data['PHASE_III_RADIOTHERAPY'].value_counts(normalize=False, dropna=False)"
   ]
  },
  {
   "cell_type": "code",
   "execution_count": null,
   "id": "9JyThYAfPS03",
   "metadata": {
    "id": "9JyThYAfPS03"
   },
   "outputs": [],
   "source": [
    "#Merge 'PHASE_I_RADIOTHERAPY', 'PHASE_II_RADIOTHERAPY', and 'PHASE_III_RADIOTHERAPY' in 'RADIATION_TREATMENT' column.\n",
    "\n",
    "data.loc[(data['PHASE_I_RADIOTHERAPY'] == 'Yes') | (data['PHASE_II_RADIOTHERAPY'] == 'Yes') | (data['PHASE_III_RADIOTHERAPY'] == 'Yes') , 'RADIATION_TREATMENT'] = 'Yes'\n",
    "data.loc[(data['PHASE_I_RADIOTHERAPY'] == 'No') & (data['PHASE_II_RADIOTHERAPY'] == 'No') & (data['PHASE_III_RADIOTHERAPY'] == 'No') , 'RADIATION_TREATMENT'] = 'No'\n",
    "data['RADIATION_TREATMENT'] = data['RADIATION_TREATMENT'].fillna('Unknown')\n",
    "data = data.drop(['PHASE_I_RADIOTHERAPY', 'PHASE_II_RADIOTHERAPY', 'PHASE_III_RADIOTHERAPY'], axis=1)\n",
    "\n",
    "data['RADIATION_TREATMENT'].value_counts(normalize=False, dropna=False)"
   ]
  },
  {
   "cell_type": "code",
   "execution_count": null,
   "id": "VJXdHQ-fSgUk",
   "metadata": {
    "id": "VJXdHQ-fSgUk"
   },
   "outputs": [],
   "source": [
    "#Simplify the column 'RX_SUMM_CHEMO'.\n",
    "\n",
    "data.loc[data['RX_SUMM_CHEMO'] == 'None, chemotherapy was not part of the planned first course of therapy', 'RX_SUMM_CHEMO'] = 'No'\n",
    "data.loc[data['RX_SUMM_CHEMO'] == 'Single-agent chemotherapy administered as first course therapy', 'RX_SUMM_CHEMO'] = 'Yes (single-agent chemotherapy)'\n",
    "data.loc[data['RX_SUMM_CHEMO'] == 'Multiagent chemotherapy administered as first course therapy', 'RX_SUMM_CHEMO'] = 'Yes (multiagent chemotherapy)'\n",
    "data.loc[data['RX_SUMM_CHEMO'] == 'Chemotherapy was recommended by the physician, but was refused by the patient, a family member, or guardian', 'RX_SUMM_CHEMO'] = 'No'\n",
    "data.loc[data['RX_SUMM_CHEMO'] == 'Chemotherapy administered as first course therapy, but the type and number of agents is not documented in patient record', 'RX_SUMM_CHEMO'] = 'Yes (details unknown)'\n",
    "data.loc[data['RX_SUMM_CHEMO'] == 'Chemotherapy was not recommended/administered because it was contraindicated due to patient risk factors', 'RX_SUMM_CHEMO'] = 'No'\n",
    "data.loc[data['RX_SUMM_CHEMO'] == 'Chemotherapy was not administered because the patient died prior to planned or recommended therapy', 'RX_SUMM_CHEMO'] = 'No'\n",
    "data.loc[data['RX_SUMM_CHEMO'] == 'Chemotherapy was was recommended but was not administered as part of the first course of therapy', 'RX_SUMM_CHEMO'] = 'No'\n",
    "data.loc[data['RX_SUMM_CHEMO'] == 'Unknown', 'RX_SUMM_CHEMO'] = 'Unknown'\n",
    "\n",
    "data['RX_SUMM_CHEMO'].value_counts(normalize=False, dropna=False)"
   ]
  },
  {
   "cell_type": "code",
   "execution_count": null,
   "id": "HSuv2gJ_TcJK",
   "metadata": {
    "id": "HSuv2gJ_TcJK"
   },
   "outputs": [],
   "source": [
    "#Simplify the column 'RX_SUMM_IMMUNOTHERAPY'.\n",
    "\n",
    "data.loc[data['RX_SUMM_IMMUNOTHERAPY'] == 'Immunotherapy administered as first course therapy, but the type and number of agents is not documented in patient record', 'RX_SUMM_IMMUNOTHERAPY'] = 'Yes'\n",
    "data.loc[data['RX_SUMM_IMMUNOTHERAPY'] == 'None, immunotherapy was not part of the planned first course of therapy', 'RX_SUMM_IMMUNOTHERAPY'] = 'No'\n",
    "data.loc[data['RX_SUMM_IMMUNOTHERAPY'] == 'Immunotherapy was not recommended/administered because it was contraindicated due to patient risk factors', 'RX_SUMM_IMMUNOTHERAPY'] = 'No'\n",
    "data.loc[data['RX_SUMM_IMMUNOTHERAPY'] == 'Immunotherapy was was recommended but was not administered as part of the first course of therapy', 'RX_SUMM_IMMUNOTHERAPY'] = 'No'\n",
    "data.loc[data['RX_SUMM_IMMUNOTHERAPY'] == 'Immunotherapy was recommended by the physician, but was refused by the patient, a family member, or guardian', 'RX_SUMM_IMMUNOTHERAPY'] = 'No'\n",
    "data.loc[data['RX_SUMM_IMMUNOTHERAPY'] == 'Immunotherapy was not recommended/administered because it was contraindicated due to patient risk factors', 'RX_SUMM_IMMUNOTHERAPY'] = 'No'\n",
    "data.loc[data['RX_SUMM_IMMUNOTHERAPY'] == 'Immunotherapy was not administered because the patient died prior to planned or recommended therapy', 'RX_SUMM_IMMUNOTHERAPY'] = 'No'\n",
    "data.loc[data['RX_SUMM_IMMUNOTHERAPY'] == 'Unknown', 'RX_SUMM_IMMUNOTHERAPY'] = 'Unknown'\n",
    "\n",
    "data['RX_SUMM_IMMUNOTHERAPY'].value_counts(normalize=False, dropna=False)"
   ]
  },
  {
   "cell_type": "code",
   "execution_count": null,
   "id": "vUXG_P3pptMJ",
   "metadata": {
    "id": "vUXG_P3pptMJ"
   },
   "outputs": [],
   "source": [
    "#Save filtered data.\n",
    "\n",
    "data.to_csv('/content/drive/MyDrive/NCDB-G2G3 Glioma/data_g2.csv')"
   ]
  },
  {
   "cell_type": "markdown",
   "id": "-jY4PIH9pxSL",
   "metadata": {
    "id": "-jY4PIH9pxSL"
   },
   "source": [
    "#Imputation"
   ]
  },
  {
   "cell_type": "code",
   "execution_count": null,
   "id": "11efb52b",
   "metadata": {
    "id": "11efb52b"
   },
   "outputs": [],
   "source": [
    "#Define numerical and categorical columns.\n",
    "\n",
    "num_cols = list(data.select_dtypes('number').columns)\n",
    "print('Numerical columns: {}'.format(num_cols), '\\n')\n",
    "\n",
    "cat_cols = list(data.select_dtypes('object').columns)\n",
    "print('Categorical columns: {}'.format(cat_cols))"
   ]
  },
  {
   "cell_type": "code",
   "execution_count": null,
   "id": "282afb2e",
   "metadata": {
    "id": "282afb2e"
   },
   "outputs": [],
   "source": [
    "#Remove outcomes.\n",
    "\n",
    "num_cols_remove = ['DX_LASTCONTACT_DEATH_MONTHS']\n",
    "cat_cols_remove = ['PUF_VITAL_STATUS']\n",
    "\n",
    "num_cols = [i for i in num_cols if i not in num_cols_remove]\n",
    "cat_cols = [i for i in cat_cols if i not in cat_cols_remove]"
   ]
  },
  {
   "cell_type": "code",
   "execution_count": null,
   "id": "f7a6bff0",
   "metadata": {
    "id": "f7a6bff0"
   },
   "outputs": [],
   "source": [
    "#Check missing values for numerical columns.\n",
    "\n",
    "missing_num = data[num_cols].isnull().mean().round(4).mul(100).sort_values(ascending=False)\n",
    "\n",
    "print(missing_num, '\\n')\n",
    "\n",
    "missing_num = pd.DataFrame(missing_num)\n",
    "\n",
    "missing_num.columns = ['Value']\n",
    "\n",
    "missing_num = missing_num[missing_num['Value'] > 0]\n",
    "\n",
    "print('Numerical variables with missing values: ', list(missing_num.index), '\\n')\n",
    "\n",
    "print('Number of numerical variables with missing values: ', len(list(missing_num.index)), '\\n')\n",
    "\n",
    "missing_num = missing_num[missing_num['Value'] > 25]\n",
    "\n",
    "missing_num = list(missing_num.index)\n",
    "\n",
    "print('Excluded numerical variables: ', missing_num)"
   ]
  },
  {
   "cell_type": "code",
   "execution_count": null,
   "id": "e128cfb5",
   "metadata": {
    "id": "e128cfb5"
   },
   "outputs": [],
   "source": [
    "#Drop numerical columns with missing values over 25%.\n",
    "\n",
    "data.drop(missing_num, axis=1, inplace=True)"
   ]
  },
  {
   "cell_type": "code",
   "execution_count": null,
   "id": "4756b292",
   "metadata": {
    "id": "4756b292"
   },
   "outputs": [],
   "source": [
    "#Define new numerical columns.\n",
    "\n",
    "num_cols = [x for x in num_cols if x not in missing_num]"
   ]
  },
  {
   "cell_type": "code",
   "execution_count": null,
   "id": "ff8609cd",
   "metadata": {
    "id": "ff8609cd"
   },
   "outputs": [],
   "source": [
    "#Impute missing numerical values.\n",
    "\n",
    "num_imputer = KNNImputer(n_neighbors=5, weights='uniform', metric='nan_euclidean')\n",
    "data[num_cols] = num_imputer.fit_transform(data[num_cols])"
   ]
  },
  {
   "cell_type": "code",
   "execution_count": null,
   "id": "01b6490e",
   "metadata": {
    "id": "01b6490e"
   },
   "outputs": [],
   "source": [
    "#Check missing values for categorical columns.\n",
    "\n",
    "missing_cat = data[cat_cols].isnull().mean().round(4).mul(100).sort_values(ascending=False)\n",
    "\n",
    "print(missing_cat, '\\n')\n",
    "\n",
    "missing_cat = pd.DataFrame(missing_cat)\n",
    "\n",
    "missing_cat.columns = ['Value']\n",
    "\n",
    "missing_cat = missing_cat[missing_cat['Value'] > 0]\n",
    "\n",
    "print('Categorical variables with missing values: ', list(missing_cat.index), '\\n')\n",
    "\n",
    "print('Number of categorical variables with missing values: ', len(list(missing_cat.index)), '\\n')\n",
    "\n",
    "missing_cat = missing_cat[missing_cat['Value'] > 25]\n",
    "\n",
    "missing_cat = list(missing_cat.index)\n",
    "\n",
    "print('Excluded categorical variables: ', missing_cat)"
   ]
  },
  {
   "cell_type": "code",
   "execution_count": null,
   "id": "89d3cdc4",
   "metadata": {
    "id": "89d3cdc4"
   },
   "outputs": [],
   "source": [
    "#Drop categorical columns with missing values over 25%.\n",
    "\n",
    "data.drop(missing_cat, axis=1, inplace=True)"
   ]
  },
  {
   "cell_type": "code",
   "execution_count": null,
   "id": "680fe385",
   "metadata": {
    "id": "680fe385"
   },
   "outputs": [],
   "source": [
    "#Define new categorical columns.\n",
    "\n",
    "cat_cols = [x for x in cat_cols if x not in missing_cat]"
   ]
  },
  {
   "cell_type": "code",
   "execution_count": null,
   "id": "9250b986",
   "metadata": {
    "id": "9250b986"
   },
   "outputs": [],
   "source": [
    "#Replace missing categorical values with 'Unknown'.\n",
    "\n",
    "for col in cat_cols:\n",
    "    data[col].fillna(value='Unknown', inplace=True)"
   ]
  },
  {
   "cell_type": "code",
   "execution_count": null,
   "id": "4336ba8a",
   "metadata": {
    "id": "4336ba8a"
   },
   "outputs": [],
   "source": [
    "#Save imputed data.\n",
    "\n",
    "data.to_csv('/content/drive/MyDrive/NCDB-G2G3 Glioma/imputed_data_g2.csv')"
   ]
  },
  {
   "cell_type": "markdown",
   "id": "KrwBUN_YqMbV",
   "metadata": {
    "id": "KrwBUN_YqMbV"
   },
   "source": [
    "#Final Touches"
   ]
  },
  {
   "cell_type": "code",
   "execution_count": null,
   "id": "2289a865",
   "metadata": {
    "id": "2289a865"
   },
   "outputs": [],
   "source": [
    "#Change variable names to field names.\n",
    "\n",
    "data_dictionary = pd.read_csv(\"/content/drive/MyDrive/NCDB-G2G3 Glioma/Data_Dictionary.csv\", encoding = 'latin1', index_col = None, low_memory = False)\n",
    "FieldNames = dict(zip(data_dictionary['Variable'], data_dictionary['Field Name']))\n",
    "data.columns = data.columns.map(FieldNames)"
   ]
  },
  {
   "cell_type": "code",
   "execution_count": null,
   "id": "cc12859a",
   "metadata": {
    "id": "cc12859a"
   },
   "outputs": [],
   "source": [
    "#Manual label encoding.\n",
    "\n",
    "data.loc[data['Histology'] == 'Pilomyxoid astrocytoma', 'Histology'] = 0\n",
    "data.loc[data['Histology'] == 'Diffuse astrocytoma', 'Histology'] = 1\n",
    "data.loc[data['Histology'] == 'Pleomorphic xanthoastrocytoma', 'Histology'] = 2\n",
    "data.loc[data['Histology'] == 'Oligodendroglioma', 'Histology'] = 3\n",
    "data.loc[data['Histology'] == 'Oligoastrocytoma', 'Histology'] = 4\n",
    "\n",
    "data.loc[data['Facility Type'] == 'Academic/Research Program', 'Facility Type'] = 0\n",
    "data.loc[data['Facility Type'] == 'Comprehensive Community Cancer Program', 'Facility Type'] = 1\n",
    "data.loc[data['Facility Type'] == 'Integrated Network Cancer Program', 'Facility Type'] = 2\n",
    "data.loc[data['Facility Type'] == 'Community Cancer Program', 'Facility Type'] = 3\n",
    "data.loc[data['Facility Type'] == 'Other or Unknown', 'Facility Type'] = 4\n",
    "\n",
    "data.loc[data['Facility Location'] == 'South Atlantic', 'Facility Location'] = 0\n",
    "data.loc[data['Facility Location'] == 'East North Central', 'Facility Location'] = 1\n",
    "data.loc[data['Facility Location'] == 'Middle Atlantic', 'Facility Location'] = 2\n",
    "data.loc[data['Facility Location'] == 'Pacific', 'Facility Location'] = 3\n",
    "data.loc[data['Facility Location'] == 'West South Central', 'Facility Location'] = 4\n",
    "data.loc[data['Facility Location'] == 'West North Central', 'Facility Location'] = 5\n",
    "data.loc[data['Facility Location'] == 'East South Central', 'Facility Location'] = 6\n",
    "data.loc[data['Facility Location'] == 'New England', 'Facility Location'] = 7\n",
    "data.loc[data['Facility Location'] == 'Mountain', 'Facility Location'] = 8\n",
    "data.loc[data['Facility Location'] == 'Unknown or Other', 'Facility Location'] = 9\n",
    "\n",
    "data.loc[data['Sex'] == 'Female', 'Sex'] = 0\n",
    "data.loc[data['Sex'] == 'Male', 'Sex'] = 1\n",
    "\n",
    "data.loc[data['Race'] == 'White', 'Race'] = 0\n",
    "data.loc[data['Race'] == 'Black', 'Race'] = 1\n",
    "data.loc[data['Race'] == 'Asian Indian or Pakistani', 'Race'] = 2\n",
    "data.loc[data['Race'] == 'Chinese', 'Race'] = 3\n",
    "data.loc[data['Race'] == 'Filipino', 'Race'] = 4\n",
    "data.loc[data['Race'] == 'American Indian, Aleutian, or Eskimo', 'Race'] = 5\n",
    "data.loc[data['Race'] == 'Vietnamese', 'Race'] = 6\n",
    "data.loc[data['Race'] == 'Korean', 'Race'] = 7\n",
    "data.loc[data['Race'] == 'Other or Unknown', 'Race'] = 8\n",
    "\n",
    "data.loc[data['Hispanic Ethnicity'] == 'No', 'Hispanic Ethnicity'] = 0\n",
    "data.loc[data['Hispanic Ethnicity'] == 'Yes', 'Hispanic Ethnicity'] = 1\n",
    "data.loc[data['Hispanic Ethnicity'] == 'Unknown', 'Hispanic Ethnicity'] = 2\n",
    "\n",
    "data.loc[data['Primary Payor'] == 'Private insurance', 'Primary Payor'] = 0\n",
    "data.loc[data['Primary Payor'] == 'Medicare', 'Primary Payor'] = 1\n",
    "data.loc[data['Primary Payor'] == 'Medicaid', 'Primary Payor'] = 2\n",
    "data.loc[data['Primary Payor'] == 'Other government', 'Primary Payor'] = 3\n",
    "data.loc[data['Primary Payor'] == 'Not insured', 'Primary Payor'] = 4\n",
    "data.loc[data['Primary Payor'] == 'Unknown', 'Primary Payor'] = 5\n",
    "\n",
    "data.loc[data['Charlson-Deyo Score'] == '0', 'Charlson-Deyo Score'] = 0\n",
    "data.loc[data['Charlson-Deyo Score'] == '1', 'Charlson-Deyo Score'] = 1\n",
    "data.loc[data['Charlson-Deyo Score'] == '2', 'Charlson-Deyo Score'] = 2\n",
    "data.loc[data['Charlson-Deyo Score'] == 'Greater than 3', 'Charlson-Deyo Score'] = 3\n",
    "\n",
    "data.loc[data['Tumor Localization'] == 'Frontal lobe', 'Tumor Localization'] = 0\n",
    "data.loc[data['Tumor Localization'] == 'Temporal lobe', 'Tumor Localization'] = 1\n",
    "data.loc[data['Tumor Localization'] == 'Parietal lobe', 'Tumor Localization'] = 2\n",
    "data.loc[data['Tumor Localization'] == 'Occipital lobe', 'Tumor Localization'] = 3\n",
    "data.loc[data['Tumor Localization'] == 'Overlapping lesion', 'Tumor Localization'] = 4\n",
    "data.loc[data['Tumor Localization'] == 'Intraventricular', 'Tumor Localization'] = 5\n",
    "data.loc[data['Tumor Localization'] == 'Cerebellum', 'Tumor Localization'] = 6\n",
    "data.loc[data['Tumor Localization'] == 'Brain stem', 'Tumor Localization'] = 7\n",
    "data.loc[data['Tumor Localization'] == 'Unknown', 'Tumor Localization'] = 8\n",
    "\n",
    "data.loc[data['Laterality'] == 'Right', 'Laterality'] = 0\n",
    "data.loc[data['Laterality'] == 'Left', 'Laterality'] = 1\n",
    "data.loc[data['Laterality'] == 'Bilateral', 'Laterality'] = 2\n",
    "data.loc[data['Laterality'] == 'Midline', 'Laterality'] = 3\n",
    "data.loc[data['Laterality'] == 'Unknown', 'Laterality'] = 4\n",
    "\n",
    "data.loc[data['Diagnostic Biopsy'] == 'No', 'Diagnostic Biopsy'] = 0\n",
    "data.loc[data['Diagnostic Biopsy'] == 'Yes', 'Diagnostic Biopsy'] = 1\n",
    "data.loc[data['Diagnostic Biopsy'] == 'Unknown', 'Diagnostic Biopsy'] = 2\n",
    "\n",
    "data.loc[data['Ki-67 Labeling Index'] == '0-20%', 'Ki-67 Labeling Index'] = 0\n",
    "data.loc[data['Ki-67 Labeling Index'] == '21-40%', 'Ki-67 Labeling Index'] = 1\n",
    "data.loc[data['Ki-67 Labeling Index'] == '41-60%', 'Ki-67 Labeling Index'] = 2\n",
    "data.loc[data['Ki-67 Labeling Index'] == '61-80%', 'Ki-67 Labeling Index'] = 3\n",
    "data.loc[data['Ki-67 Labeling Index'] == '81-100%', 'Ki-67 Labeling Index'] = 4\n",
    "data.loc[data['Ki-67 Labeling Index'] == 'Normal (no percentage available)', 'Ki-67 Labeling Index'] = 5\n",
    "data.loc[data['Ki-67 Labeling Index'] == 'Slightly elevated (no percentage available)', 'Ki-67 Labeling Index'] = 6\n",
    "data.loc[data['Ki-67 Labeling Index'] == 'Elevated (no percentage available)', 'Ki-67 Labeling Index'] = 7\n",
    "data.loc[data['Ki-67 Labeling Index'] == 'Unknown', 'Ki-67 Labeling Index'] = 8\n",
    "\n",
    "data.loc[data['Karnofsky Performance Scale'] == 'KPS 0-20', 'Karnofsky Performance Scale'] = 0\n",
    "data.loc[data['Karnofsky Performance Scale'] == 'KPS 21-40', 'Karnofsky Performance Scale'] = 1\n",
    "data.loc[data['Karnofsky Performance Scale'] == 'KPS 41-60', 'Karnofsky Performance Scale'] = 2\n",
    "data.loc[data['Karnofsky Performance Scale'] == 'KPS 61-80', 'Karnofsky Performance Scale'] = 3\n",
    "data.loc[data['Karnofsky Performance Scale'] == 'KPS 81-100', 'Karnofsky Performance Scale'] = 4\n",
    "data.loc[data['Karnofsky Performance Scale'] == 'Unknown', 'Karnofsky Performance Scale'] = 5\n",
    "\n",
    "data.loc[data['MGMT Methylation'] == 'Unmethylated', 'MGMT Methylation'] = 0\n",
    "data.loc[data['MGMT Methylation'] == 'Methylated', 'MGMT Methylation'] = 1\n",
    "data.loc[data['MGMT Methylation'] == 'Unknown', 'MGMT Methylation'] = 2\n",
    "\n",
    "data.loc[data['Focality'] == 'Unifocal', 'Focality'] = 0\n",
    "data.loc[data['Focality'] == 'Multifocal', 'Focality'] = 1\n",
    "data.loc[data['Focality'] == 'Unknown', 'Focality'] = 2\n",
    "\n",
    "data.loc[data['Tumor Size'] == '< 2 cm', 'Tumor Size'] = 0\n",
    "data.loc[data['Tumor Size'] == '2 - 3.9 cm', 'Tumor Size'] = 1\n",
    "data.loc[data['Tumor Size'] == '4 - 5.9 cm', 'Tumor Size'] = 2\n",
    "data.loc[data['Tumor Size'] == '6 - 7.9 cm', 'Tumor Size'] = 3\n",
    "data.loc[data['Tumor Size'] == '8 - 9.9 cm', 'Tumor Size'] = 4\n",
    "data.loc[data['Tumor Size'] == '10 - 11.9 cm', 'Tumor Size'] = 5\n",
    "data.loc[data['Tumor Size'] == '12 - 13.9 cm', 'Tumor Size'] = 6\n",
    "data.loc[data['Tumor Size'] == '14 - 15.9 cm', 'Tumor Size'] = 7\n",
    "data.loc[data['Tumor Size'] == '16 - 17.9 cm', 'Tumor Size'] = 8\n",
    "data.loc[data['Tumor Size'] == '18 - 19.9 cm', 'Tumor Size'] = 9\n",
    "data.loc[data['Tumor Size'] == '> 20 cm', 'Tumor Size'] = 10\n",
    "data.loc[data['Tumor Size'] == 'Unknown', 'Tumor Size'] = 11\n",
    "\n",
    "data.loc[data['Chemotherapy'] == 'No', 'Chemotherapy'] = 0\n",
    "data.loc[data['Chemotherapy'] == 'Yes (single-agent chemotherapy)', 'Chemotherapy'] = 1\n",
    "data.loc[data['Chemotherapy'] == 'Yes (multiagent chemotherapy)', 'Chemotherapy'] = 2\n",
    "data.loc[data['Chemotherapy'] == 'Yes (details unknown)', 'Chemotherapy'] = 3\n",
    "data.loc[data['Chemotherapy'] == 'Unknown', 'Chemotherapy'] = 4\n",
    "\n",
    "data.loc[data['Immunotherapy'] == 'No', 'Immunotherapy'] = 0\n",
    "data.loc[data['Immunotherapy'] == 'Yes', 'Immunotherapy'] = 1\n",
    "data.loc[data['Immunotherapy'] == 'Unknown', 'Immunotherapy'] = 2\n",
    "\n",
    "data.loc[data['Extent of Resection'] == 'No resective surgery was performed', 'Extent of Resection'] = 0\n",
    "data.loc[data['Extent of Resection'] == 'Gross total resection', 'Extent of Resection'] = 1\n",
    "data.loc[data['Extent of Resection'] == 'Subtotal resection', 'Extent of Resection'] = 2\n",
    "data.loc[data['Extent of Resection'] == 'Resective surgery was performed but the extent of resection is unknown', 'Extent of Resection'] = 3\n",
    "data.loc[data['Extent of Resection'] == 'Unknown whether resective surgery is performed or not', 'Extent of Resection'] = 4\n",
    "\n",
    "data.loc[data['Radiation Treatment'] == 'No', 'Radiation Treatment'] = 0\n",
    "data.loc[data['Radiation Treatment'] == 'Yes', 'Radiation Treatment'] = 1\n",
    "data.loc[data['Radiation Treatment'] == 'Unknown', 'Radiation Treatment'] = 2\n",
    "\n",
    "data.loc[data['1p19q Co-Deletion'] == 'No', '1p19q Co-Deletion'] = 0\n",
    "data.loc[data['1p19q Co-Deletion'] == 'Yes', '1p19q Co-Deletion'] = 1\n",
    "data.loc[data['1p19q Co-Deletion'] == 'Unknown', '1p19q Co-Deletion'] = 2\n",
    "\n",
    "columns = ['Histology', 'Facility Type', 'Facility Location', 'Sex', 'Race', 'Hispanic Ethnicity',\n",
    "          'Primary Payor', 'Charlson-Deyo Score', 'Tumor Localization', 'Laterality',\n",
    "           'Diagnostic Biopsy', 'Ki-67 Labeling Index', 'Karnofsky Performance Scale',\n",
    "           'MGMT Methylation', 'Focality', 'Tumor Size', 'Chemotherapy', 'Immunotherapy',\n",
    "           'Extent of Resection', 'Radiation Treatment', '1p19q Co-Deletion']\n",
    "\n",
    "for column in columns:\n",
    "    data[column] = data[column].astype(int)"
   ]
  },
  {
   "cell_type": "code",
   "execution_count": null,
   "id": "c5490d9b",
   "metadata": {
    "id": "c5490d9b"
   },
   "outputs": [],
   "source": [
    "#Save data for Gradio.\n",
    "\n",
    "gradio = data.copy()\n",
    "\n",
    "gradio.columns = gradio.columns.str.replace(' ', '_', regex=True)\n",
    "gradio.columns = gradio.columns.str.replace('-', '', regex=True)\n",
    "\n",
    "gradio.to_csv('/content/drive/MyDrive/NCDB-G2G3 Glioma/gradio_data_g2.csv')"
   ]
  },
  {
   "cell_type": "code",
   "execution_count": null,
   "id": "1ENABv7xqmWs",
   "metadata": {
    "id": "1ENABv7xqmWs"
   },
   "outputs": [],
   "source": [
    "#Save final data.\n",
    "\n",
    "data.to_csv('/content/drive/MyDrive/NCDB-G2G3 Glioma/final_data_g2.csv')"
   ]
  }
 ],
 "metadata": {
  "colab": {
   "machine_shape": "hm",
   "provenance": [
    {
     "file_id": "1Os7r6kq42uEWESOduq_gWdKQsCqFBd9N",
     "timestamp": 1691602400919
    },
    {
     "file_id": "1e8Fpu-pe7O0EfheLaEzbnWzODzKTABOB",
     "timestamp": 1690299650366
    },
    {
     "file_id": "1ivwXHlUcLdC8WZQo6Q6hf-MYahSQ88lq",
     "timestamp": 1681082527584
    },
    {
     "file_id": "1qkdhVqVX240vYpWuEeJY_DKFacob5ztC",
     "timestamp": 1680800063857
    },
    {
     "file_id": "1ggfw-q5XTxdzPn9nnqb4pk7uxKjkpaga",
     "timestamp": 1672250375960
    },
    {
     "file_id": "1g8wyPIRJw1XKU7zF_T4SgLWpAzCOvEQJ",
     "timestamp": 1671643302648
    },
    {
     "file_id": "1Nau1T8kYhu_teXcKnDyTzUTVNIRcruHN",
     "timestamp": 1671032966766
    },
    {
     "file_id": "1fRg4CV3EaBnihAqddzIHeCaU4bmkgUi3",
     "timestamp": 1669913930106
    },
    {
     "file_id": "1AXH9JUz2PztvXr-hpN3EzKrUTEbGW2Si",
     "timestamp": 1669306790787
    }
   ]
  },
  "environment": {
   "kernel": "python3",
   "name": "common-cpu.m100",
   "type": "gcloud",
   "uri": "gcr.io/deeplearning-platform-release/base-cpu:m100"
  },
  "gpuClass": "standard",
  "kernelspec": {
   "display_name": "Python 3 (ipykernel)",
   "language": "python",
   "name": "python3"
  },
  "language_info": {
   "codemirror_mode": {
    "name": "ipython",
    "version": 3
   },
   "file_extension": ".py",
   "mimetype": "text/x-python",
   "name": "python",
   "nbconvert_exporter": "python",
   "pygments_lexer": "ipython3",
   "version": "3.9.6"
  }
 },
 "nbformat": 4,
 "nbformat_minor": 5
}
